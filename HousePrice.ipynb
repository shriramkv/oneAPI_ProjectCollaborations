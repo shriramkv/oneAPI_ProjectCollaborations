{
 "cells": [
  {
   "cell_type": "code",
   "execution_count": 57,
   "id": "c3ed19e7-0cf5-467f-a540-ab64f790bcc4",
   "metadata": {},
   "outputs": [
    {
     "name": "stderr",
     "output_type": "stream",
     "text": [
      "Intel(R) Extension for Scikit-learn* enabled (https://github.com/intel/scikit-learn-intelex)\n"
     ]
    },
    {
     "data": {
      "text/html": [
       "<div>\n",
       "<style scoped>\n",
       "    .dataframe tbody tr th:only-of-type {\n",
       "        vertical-align: middle;\n",
       "    }\n",
       "\n",
       "    .dataframe tbody tr th {\n",
       "        vertical-align: top;\n",
       "    }\n",
       "\n",
       "    .dataframe thead th {\n",
       "        text-align: right;\n",
       "    }\n",
       "</style>\n",
       "<table border=\"1\" class=\"dataframe\">\n",
       "  <thead>\n",
       "    <tr style=\"text-align: right;\">\n",
       "      <th></th>\n",
       "      <th>Id</th>\n",
       "      <th>MSSubClass</th>\n",
       "      <th>MSZoning</th>\n",
       "      <th>LotArea</th>\n",
       "      <th>LotConfig</th>\n",
       "      <th>BldgType</th>\n",
       "      <th>OverallCond</th>\n",
       "      <th>YearBuilt</th>\n",
       "      <th>YearRemodAdd</th>\n",
       "      <th>Exterior1st</th>\n",
       "      <th>BsmtFinSF2</th>\n",
       "      <th>TotalBsmtSF</th>\n",
       "      <th>SalePrice</th>\n",
       "    </tr>\n",
       "  </thead>\n",
       "  <tbody>\n",
       "    <tr>\n",
       "      <th>0</th>\n",
       "      <td>0</td>\n",
       "      <td>60</td>\n",
       "      <td>RL</td>\n",
       "      <td>8450</td>\n",
       "      <td>Inside</td>\n",
       "      <td>1Fam</td>\n",
       "      <td>5</td>\n",
       "      <td>2003</td>\n",
       "      <td>2003</td>\n",
       "      <td>VinylSd</td>\n",
       "      <td>0.0</td>\n",
       "      <td>856.0</td>\n",
       "      <td>208500.0</td>\n",
       "    </tr>\n",
       "    <tr>\n",
       "      <th>1</th>\n",
       "      <td>1</td>\n",
       "      <td>20</td>\n",
       "      <td>RL</td>\n",
       "      <td>9600</td>\n",
       "      <td>FR2</td>\n",
       "      <td>1Fam</td>\n",
       "      <td>8</td>\n",
       "      <td>1976</td>\n",
       "      <td>1976</td>\n",
       "      <td>MetalSd</td>\n",
       "      <td>0.0</td>\n",
       "      <td>1262.0</td>\n",
       "      <td>181500.0</td>\n",
       "    </tr>\n",
       "    <tr>\n",
       "      <th>2</th>\n",
       "      <td>2</td>\n",
       "      <td>60</td>\n",
       "      <td>RL</td>\n",
       "      <td>11250</td>\n",
       "      <td>Inside</td>\n",
       "      <td>1Fam</td>\n",
       "      <td>5</td>\n",
       "      <td>2001</td>\n",
       "      <td>2002</td>\n",
       "      <td>VinylSd</td>\n",
       "      <td>0.0</td>\n",
       "      <td>920.0</td>\n",
       "      <td>223500.0</td>\n",
       "    </tr>\n",
       "    <tr>\n",
       "      <th>3</th>\n",
       "      <td>3</td>\n",
       "      <td>70</td>\n",
       "      <td>RL</td>\n",
       "      <td>9550</td>\n",
       "      <td>Corner</td>\n",
       "      <td>1Fam</td>\n",
       "      <td>5</td>\n",
       "      <td>1915</td>\n",
       "      <td>1970</td>\n",
       "      <td>Wd Sdng</td>\n",
       "      <td>0.0</td>\n",
       "      <td>756.0</td>\n",
       "      <td>140000.0</td>\n",
       "    </tr>\n",
       "    <tr>\n",
       "      <th>4</th>\n",
       "      <td>4</td>\n",
       "      <td>60</td>\n",
       "      <td>RL</td>\n",
       "      <td>14260</td>\n",
       "      <td>FR2</td>\n",
       "      <td>1Fam</td>\n",
       "      <td>5</td>\n",
       "      <td>2000</td>\n",
       "      <td>2000</td>\n",
       "      <td>VinylSd</td>\n",
       "      <td>0.0</td>\n",
       "      <td>1145.0</td>\n",
       "      <td>250000.0</td>\n",
       "    </tr>\n",
       "  </tbody>\n",
       "</table>\n",
       "</div>"
      ],
      "text/plain": [
       "   Id  MSSubClass MSZoning  LotArea LotConfig BldgType  OverallCond  \\\n",
       "0   0          60       RL     8450    Inside     1Fam            5   \n",
       "1   1          20       RL     9600       FR2     1Fam            8   \n",
       "2   2          60       RL    11250    Inside     1Fam            5   \n",
       "3   3          70       RL     9550    Corner     1Fam            5   \n",
       "4   4          60       RL    14260       FR2     1Fam            5   \n",
       "\n",
       "   YearBuilt  YearRemodAdd Exterior1st  BsmtFinSF2  TotalBsmtSF  SalePrice  \n",
       "0       2003          2003     VinylSd         0.0        856.0   208500.0  \n",
       "1       1976          1976     MetalSd         0.0       1262.0   181500.0  \n",
       "2       2001          2002     VinylSd         0.0        920.0   223500.0  \n",
       "3       1915          1970     Wd Sdng         0.0        756.0   140000.0  \n",
       "4       2000          2000     VinylSd         0.0       1145.0   250000.0  "
      ]
     },
     "execution_count": 57,
     "metadata": {},
     "output_type": "execute_result"
    }
   ],
   "source": [
    "import pandas as pd\n",
    "import matplotlib.pyplot as plt\n",
    "from sklearnex import patch_sklearn\n",
    "patch_sklearn()\n",
    "dataset = pd.read_csv(\"HousePrice.csv\")\n",
    "\n",
    "# Printing first 5 records of the dataset\n",
    "dataset.head(5)\n"
   ]
  },
  {
   "cell_type": "code",
   "execution_count": 58,
   "id": "141fdd82-6009-4539-839d-860476580575",
   "metadata": {},
   "outputs": [
    {
     "name": "stdout",
     "output_type": "stream",
     "text": [
      "Categorical variables: 4\n",
      "Integer variables: 6\n",
      "Float variables: 3\n"
     ]
    }
   ],
   "source": [
    "obj = (dataset.dtypes == 'object')\n",
    "object_cols = list(obj[obj].index)\n",
    "print(\"Categorical variables:\",len(object_cols))\n",
    "\n",
    "int_ = (dataset.dtypes == 'int')\n",
    "num_cols = list(int_[int_].index)\n",
    "print(\"Integer variables:\",len(num_cols))\n",
    "\n",
    "fl = (dataset.dtypes == 'float')\n",
    "fl_cols = list(fl[fl].index)\n",
    "print(\"Float variables:\",len(fl_cols))\n"
   ]
  },
  {
   "cell_type": "code",
   "execution_count": 59,
   "id": "9ec81396-22c1-4ec4-aaf0-312461a4a8cd",
   "metadata": {},
   "outputs": [
    {
     "name": "stderr",
     "output_type": "stream",
     "text": [
      "/tmp/ipykernel_3589187/2191645083.py:1: FutureWarning: The default value of numeric_only in DataFrame.corr is deprecated. In a future version, it will default to False. Select only valid columns or specify the value of numeric_only to silence this warning.\n",
      "  dataset.corr()\n"
     ]
    },
    {
     "data": {
      "text/html": [
       "<div>\n",
       "<style scoped>\n",
       "    .dataframe tbody tr th:only-of-type {\n",
       "        vertical-align: middle;\n",
       "    }\n",
       "\n",
       "    .dataframe tbody tr th {\n",
       "        vertical-align: top;\n",
       "    }\n",
       "\n",
       "    .dataframe thead th {\n",
       "        text-align: right;\n",
       "    }\n",
       "</style>\n",
       "<table border=\"1\" class=\"dataframe\">\n",
       "  <thead>\n",
       "    <tr style=\"text-align: right;\">\n",
       "      <th></th>\n",
       "      <th>Id</th>\n",
       "      <th>MSSubClass</th>\n",
       "      <th>LotArea</th>\n",
       "      <th>OverallCond</th>\n",
       "      <th>YearBuilt</th>\n",
       "      <th>YearRemodAdd</th>\n",
       "      <th>BsmtFinSF2</th>\n",
       "      <th>TotalBsmtSF</th>\n",
       "      <th>SalePrice</th>\n",
       "    </tr>\n",
       "  </thead>\n",
       "  <tbody>\n",
       "    <tr>\n",
       "      <th>Id</th>\n",
       "      <td>1.000000</td>\n",
       "      <td>0.008931</td>\n",
       "      <td>-0.040746</td>\n",
       "      <td>-0.002839</td>\n",
       "      <td>-0.016581</td>\n",
       "      <td>-0.050438</td>\n",
       "      <td>0.018251</td>\n",
       "      <td>-0.024924</td>\n",
       "      <td>-0.021917</td>\n",
       "    </tr>\n",
       "    <tr>\n",
       "      <th>MSSubClass</th>\n",
       "      <td>0.008931</td>\n",
       "      <td>1.000000</td>\n",
       "      <td>-0.201730</td>\n",
       "      <td>-0.065625</td>\n",
       "      <td>0.034409</td>\n",
       "      <td>0.043315</td>\n",
       "      <td>-0.072530</td>\n",
       "      <td>-0.219965</td>\n",
       "      <td>-0.084284</td>\n",
       "    </tr>\n",
       "    <tr>\n",
       "      <th>LotArea</th>\n",
       "      <td>-0.040746</td>\n",
       "      <td>-0.201730</td>\n",
       "      <td>1.000000</td>\n",
       "      <td>-0.035617</td>\n",
       "      <td>0.024128</td>\n",
       "      <td>0.021612</td>\n",
       "      <td>0.084059</td>\n",
       "      <td>0.254138</td>\n",
       "      <td>0.263843</td>\n",
       "    </tr>\n",
       "    <tr>\n",
       "      <th>OverallCond</th>\n",
       "      <td>-0.002839</td>\n",
       "      <td>-0.065625</td>\n",
       "      <td>-0.035617</td>\n",
       "      <td>1.000000</td>\n",
       "      <td>-0.368477</td>\n",
       "      <td>0.047654</td>\n",
       "      <td>0.041501</td>\n",
       "      <td>-0.174002</td>\n",
       "      <td>-0.077856</td>\n",
       "    </tr>\n",
       "    <tr>\n",
       "      <th>YearBuilt</th>\n",
       "      <td>-0.016581</td>\n",
       "      <td>0.034409</td>\n",
       "      <td>0.024128</td>\n",
       "      <td>-0.368477</td>\n",
       "      <td>1.000000</td>\n",
       "      <td>0.612235</td>\n",
       "      <td>-0.027595</td>\n",
       "      <td>0.408515</td>\n",
       "      <td>0.522897</td>\n",
       "    </tr>\n",
       "    <tr>\n",
       "      <th>YearRemodAdd</th>\n",
       "      <td>-0.050438</td>\n",
       "      <td>0.043315</td>\n",
       "      <td>0.021612</td>\n",
       "      <td>0.047654</td>\n",
       "      <td>0.612235</td>\n",
       "      <td>1.000000</td>\n",
       "      <td>-0.062153</td>\n",
       "      <td>0.298107</td>\n",
       "      <td>0.507101</td>\n",
       "    </tr>\n",
       "    <tr>\n",
       "      <th>BsmtFinSF2</th>\n",
       "      <td>0.018251</td>\n",
       "      <td>-0.072530</td>\n",
       "      <td>0.084059</td>\n",
       "      <td>0.041501</td>\n",
       "      <td>-0.027595</td>\n",
       "      <td>-0.062153</td>\n",
       "      <td>1.000000</td>\n",
       "      <td>0.089410</td>\n",
       "      <td>-0.011378</td>\n",
       "    </tr>\n",
       "    <tr>\n",
       "      <th>TotalBsmtSF</th>\n",
       "      <td>-0.024924</td>\n",
       "      <td>-0.219965</td>\n",
       "      <td>0.254138</td>\n",
       "      <td>-0.174002</td>\n",
       "      <td>0.408515</td>\n",
       "      <td>0.298107</td>\n",
       "      <td>0.089410</td>\n",
       "      <td>1.000000</td>\n",
       "      <td>0.613581</td>\n",
       "    </tr>\n",
       "    <tr>\n",
       "      <th>SalePrice</th>\n",
       "      <td>-0.021917</td>\n",
       "      <td>-0.084284</td>\n",
       "      <td>0.263843</td>\n",
       "      <td>-0.077856</td>\n",
       "      <td>0.522897</td>\n",
       "      <td>0.507101</td>\n",
       "      <td>-0.011378</td>\n",
       "      <td>0.613581</td>\n",
       "      <td>1.000000</td>\n",
       "    </tr>\n",
       "  </tbody>\n",
       "</table>\n",
       "</div>"
      ],
      "text/plain": [
       "                    Id  MSSubClass   LotArea  OverallCond  YearBuilt  \\\n",
       "Id            1.000000    0.008931 -0.040746    -0.002839  -0.016581   \n",
       "MSSubClass    0.008931    1.000000 -0.201730    -0.065625   0.034409   \n",
       "LotArea      -0.040746   -0.201730  1.000000    -0.035617   0.024128   \n",
       "OverallCond  -0.002839   -0.065625 -0.035617     1.000000  -0.368477   \n",
       "YearBuilt    -0.016581    0.034409  0.024128    -0.368477   1.000000   \n",
       "YearRemodAdd -0.050438    0.043315  0.021612     0.047654   0.612235   \n",
       "BsmtFinSF2    0.018251   -0.072530  0.084059     0.041501  -0.027595   \n",
       "TotalBsmtSF  -0.024924   -0.219965  0.254138    -0.174002   0.408515   \n",
       "SalePrice    -0.021917   -0.084284  0.263843    -0.077856   0.522897   \n",
       "\n",
       "              YearRemodAdd  BsmtFinSF2  TotalBsmtSF  SalePrice  \n",
       "Id               -0.050438    0.018251    -0.024924  -0.021917  \n",
       "MSSubClass        0.043315   -0.072530    -0.219965  -0.084284  \n",
       "LotArea           0.021612    0.084059     0.254138   0.263843  \n",
       "OverallCond       0.047654    0.041501    -0.174002  -0.077856  \n",
       "YearBuilt         0.612235   -0.027595     0.408515   0.522897  \n",
       "YearRemodAdd      1.000000   -0.062153     0.298107   0.507101  \n",
       "BsmtFinSF2       -0.062153    1.000000     0.089410  -0.011378  \n",
       "TotalBsmtSF       0.298107    0.089410     1.000000   0.613581  \n",
       "SalePrice         0.507101   -0.011378     0.613581   1.000000  "
      ]
     },
     "execution_count": 59,
     "metadata": {},
     "output_type": "execute_result"
    }
   ],
   "source": [
    "dataset.corr()"
   ]
  },
  {
   "cell_type": "code",
   "execution_count": 60,
   "id": "dfd5b08b-2d0e-4c77-87a8-116223060632",
   "metadata": {},
   "outputs": [
    {
     "data": {
      "text/plain": [
       "<BarContainer object of 4 artists>"
      ]
     },
     "execution_count": 60,
     "metadata": {},
     "output_type": "execute_result"
    },
    {
     "data": {
      "image/png": "[encoded data removed]",
      "text/plain": [
       "<Figure size 1000x600 with 1 Axes>"
      ]
     },
     "metadata": {},
     "output_type": "display_data"
    }
   ],
   "source": [
    "unique_values = []\n",
    "for col in object_cols:\n",
    "  unique_values.append(dataset[col].unique().size)\n",
    "plt.figure(figsize=(10,6))\n",
    "plt.title('No. Unique values of Categorical Features')\n",
    "plt.xticks(rotation=90)\n",
    "plt.bar(x=object_cols,height=unique_values)"
   ]
  },
  {
   "cell_type": "code",
   "execution_count": 61,
   "id": "5cf16399-e8c9-46b8-9b7c-867359f6837f",
   "metadata": {},
   "outputs": [
    {
     "name": "stderr",
     "output_type": "stream",
     "text": [
      "/tmp/ipykernel_3589187/75264840.py:8: MatplotlibDeprecationWarning: Auto-removal of overlapping axes is deprecated since 3.6 and will be removed two minor releases later; explicitly call ax.remove() as needed.\n",
      "  plt.subplot(11, 4, index)\n"
     ]
    },
    {
     "data": {
      "image/png": "[encoded data removed]",
      "text/plain": [
       "<Figure size 1800x3600 with 4 Axes>"
      ]
     },
     "metadata": {},
     "output_type": "display_data"
    }
   ],
   "source": [
    "plt.figure(figsize=(18, 36))\n",
    "plt.title('Categorical Features: Distribution')\n",
    "plt.xticks(rotation=90)\n",
    "index = 1\n",
    "\n",
    "for col in object_cols:\n",
    "\ty = dataset[col].value_counts()\n",
    "\tplt.subplot(11, 4, index)\n",
    "\tplt.xticks(rotation=90)\n",
    "\tplt.bar(x=list(y.index), height=y)\n",
    "\tindex += 1\n"
   ]
  },
  {
   "cell_type": "code",
   "execution_count": 62,
   "id": "199ded72-aa66-4a89-bc29-7dca4b32e1d6",
   "metadata": {},
   "outputs": [
    {
     "data": {
      "text/plain": [
       "MSSubClass      0\n",
       "MSZoning        0\n",
       "LotArea         0\n",
       "LotConfig       0\n",
       "BldgType        0\n",
       "OverallCond     0\n",
       "YearBuilt       0\n",
       "YearRemodAdd    0\n",
       "Exterior1st     0\n",
       "BsmtFinSF2      0\n",
       "TotalBsmtSF     0\n",
       "SalePrice       0\n",
       "dtype: int64"
      ]
     },
     "execution_count": 62,
     "metadata": {},
     "output_type": "execute_result"
    }
   ],
   "source": [
    "dataset.drop(['Id'],axis=1,inplace=True)\n",
    "dataset['SalePrice'] = dataset['SalePrice'].fillna(dataset['SalePrice'].mean())\n",
    "new_dataset = dataset.dropna()\n",
    "new_dataset.isnull().sum()\n"
   ]
  },
  {
   "cell_type": "code",
   "execution_count": 63,
   "id": "dd94367a-df73-492e-817e-fb3a9c2bc0c0",
   "metadata": {},
   "outputs": [
    {
     "name": "stdout",
     "output_type": "stream",
     "text": [
      "Categorical variables:\n",
      "['MSZoning', 'LotConfig', 'BldgType', 'Exterior1st']\n",
      "No. of. categorical features:  4\n"
     ]
    }
   ],
   "source": [
    "from sklearn.preprocessing import OneHotEncoder\n",
    " \n",
    "s = (new_dataset.dtypes == 'object')\n",
    "object_cols = list(s[s].index)\n",
    "print(\"Categorical variables:\")\n",
    "print(object_cols)\n",
    "print('No. of. categorical features: ',\n",
    "      len(object_cols))"
   ]
  },
  {
   "cell_type": "code",
   "execution_count": 64,
   "id": "9a77946f-2e00-42be-bd03-2cdac77b0bd0",
   "metadata": {},
   "outputs": [
    {
     "name": "stdout",
     "output_type": "stream",
     "text": [
      "Categorical variables:\n",
      "['MSZoning', 'LotConfig', 'BldgType', 'Exterior1st']\n",
      "No. of. categorical features:  4\n"
     ]
    }
   ],
   "source": [
    "from sklearn.preprocessing import OneHotEncoder\n",
    " \n",
    "s = (new_dataset.dtypes == 'object')\n",
    "object_cols = list(s[s].index)\n",
    "print(\"Categorical variables:\")\n",
    "print(object_cols)\n",
    "print('No. of. categorical features: ',\n",
    "      len(object_cols))"
   ]
  },
  {
   "cell_type": "code",
   "execution_count": 65,
   "id": "ff04943b-d951-4e45-ac85-298ba8137e16",
   "metadata": {},
   "outputs": [
    {
     "name": "stderr",
     "output_type": "stream",
     "text": [
      "/opt/intel/inteloneapi/intelpython/latest/lib/python3.9/site-packages/sklearn/utils/deprecation.py:87: FutureWarning: Function get_feature_names is deprecated; get_feature_names is deprecated in 1.0 and will be removed in 1.2. Please use get_feature_names_out instead.\n",
      "  warnings.warn(msg, category=FutureWarning)\n"
     ]
    }
   ],
   "source": [
    "OH_encoder = OneHotEncoder(sparse=False)\n",
    "OH_cols = pd.DataFrame(OH_encoder.fit_transform(new_dataset[object_cols]))\n",
    "OH_cols.index = new_dataset.index\n",
    "OH_cols.columns = OH_encoder.get_feature_names()\n",
    "df_final = new_dataset.drop(object_cols, axis=1)\n",
    "df_final = pd.concat([df_final, OH_cols], axis=1)\n"
   ]
  },
  {
   "cell_type": "code",
   "execution_count": 66,
   "id": "3b31ea92-fe6c-4074-a49c-e71400f5105f",
   "metadata": {},
   "outputs": [],
   "source": [
    "from sklearn.metrics import mean_absolute_error\n",
    "from sklearn.model_selection import train_test_split\n",
    "\n",
    "X = df_final.drop(['SalePrice'], axis=1)\n",
    "Y = df_final['SalePrice']\n",
    "\n",
    "# Split the training set into\n",
    "# training and validation set\n",
    "X_train, X_valid, Y_train, Y_valid = train_test_split(\n",
    "\tX, Y, train_size=0.8, test_size=0.2, random_state=0)\n"
   ]
  },
  {
   "cell_type": "code",
   "execution_count": 67,
   "id": "379af303-f761-4b1e-b17b-06646b71a69e",
   "metadata": {},
   "outputs": [
    {
     "data": {
      "text/plain": [
       "0.18821732204340674"
      ]
     },
     "execution_count": 67,
     "metadata": {},
     "output_type": "execute_result"
    }
   ],
   "source": [
    "from sklearn.ensemble import RandomForestRegressor\n",
    "\n",
    "model_RFR = RandomForestRegressor(n_estimators=10)\n",
    "model_RFR.fit(X_train, Y_train)\n",
    "Y_pred = model_RFR.predict(X_valid)\n",
    "\n",
    "mean_absolute_percentage_error(Y_valid, Y_pred)\n"
   ]
  },
  {
   "cell_type": "markdown",
   "id": "cbcebe10-ca9f-4e07-8378-8bd0203220d7",
   "metadata": {},
   "source": [
    "## Sample Input"
   ]
  },
  {
   "cell_type": "code",
   "execution_count": 68,
   "id": "36f96bbd-f1be-49ff-a65c-ccab1cd80625",
   "metadata": {},
   "outputs": [
    {
     "data": {
      "text/html": [
       "<div>\n",
       "<style scoped>\n",
       "    .dataframe tbody tr th:only-of-type {\n",
       "        vertical-align: middle;\n",
       "    }\n",
       "\n",
       "    .dataframe tbody tr th {\n",
       "        vertical-align: top;\n",
       "    }\n",
       "\n",
       "    .dataframe thead th {\n",
       "        text-align: right;\n",
       "    }\n",
       "</style>\n",
       "<table border=\"1\" class=\"dataframe\">\n",
       "  <thead>\n",
       "    <tr style=\"text-align: right;\">\n",
       "      <th></th>\n",
       "      <th>MSSubClass</th>\n",
       "      <th>LotArea</th>\n",
       "      <th>OverallCond</th>\n",
       "      <th>YearBuilt</th>\n",
       "      <th>YearRemodAdd</th>\n",
       "      <th>BsmtFinSF2</th>\n",
       "      <th>TotalBsmtSF</th>\n",
       "      <th>x0_C (all)</th>\n",
       "      <th>x0_FV</th>\n",
       "      <th>x0_RH</th>\n",
       "      <th>...</th>\n",
       "      <th>x3_CemntBd</th>\n",
       "      <th>x3_HdBoard</th>\n",
       "      <th>x3_ImStucc</th>\n",
       "      <th>x3_MetalSd</th>\n",
       "      <th>x3_Plywood</th>\n",
       "      <th>x3_Stone</th>\n",
       "      <th>x3_Stucco</th>\n",
       "      <th>x3_VinylSd</th>\n",
       "      <th>x3_Wd Sdng</th>\n",
       "      <th>x3_WdShing</th>\n",
       "    </tr>\n",
       "  </thead>\n",
       "  <tbody>\n",
       "    <tr>\n",
       "      <th>1728</th>\n",
       "      <td>60</td>\n",
       "      <td>10274</td>\n",
       "      <td>7</td>\n",
       "      <td>1986</td>\n",
       "      <td>1986</td>\n",
       "      <td>0.0</td>\n",
       "      <td>676.0</td>\n",
       "      <td>0.0</td>\n",
       "      <td>0.0</td>\n",
       "      <td>0.0</td>\n",
       "      <td>...</td>\n",
       "      <td>0.0</td>\n",
       "      <td>0.0</td>\n",
       "      <td>0.0</td>\n",
       "      <td>0.0</td>\n",
       "      <td>0.0</td>\n",
       "      <td>0.0</td>\n",
       "      <td>0.0</td>\n",
       "      <td>1.0</td>\n",
       "      <td>0.0</td>\n",
       "      <td>0.0</td>\n",
       "    </tr>\n",
       "  </tbody>\n",
       "</table>\n",
       "<p>1 rows × 37 columns</p>\n",
       "</div>"
      ],
      "text/plain": [
       "      MSSubClass  LotArea  OverallCond  YearBuilt  YearRemodAdd  BsmtFinSF2  \\\n",
       "1728          60    10274            7       1986          1986         0.0   \n",
       "\n",
       "      TotalBsmtSF  x0_C (all)  x0_FV  x0_RH  ...  x3_CemntBd  x3_HdBoard  \\\n",
       "1728        676.0         0.0    0.0    0.0  ...         0.0         0.0   \n",
       "\n",
       "      x3_ImStucc  x3_MetalSd  x3_Plywood  x3_Stone  x3_Stucco  x3_VinylSd  \\\n",
       "1728         0.0         0.0         0.0       0.0        0.0         1.0   \n",
       "\n",
       "      x3_Wd Sdng  x3_WdShing  \n",
       "1728         0.0         0.0  \n",
       "\n",
       "[1 rows x 37 columns]"
      ]
     },
     "execution_count": 68,
     "metadata": {},
     "output_type": "execute_result"
    }
   ],
   "source": [
    "X_valid.iloc[:1,:]"
   ]
  },
  {
   "cell_type": "markdown",
   "id": "8df793d7-b894-4590-b58e-4b025b2e32c5",
   "metadata": {},
   "source": [
    "## Expected Output"
   ]
  },
  {
   "cell_type": "code",
   "execution_count": 69,
   "id": "66ecac67-dd74-475a-8f50-c308e8fb5b13",
   "metadata": {},
   "outputs": [
    {
     "data": {
      "text/plain": [
       "180921.19589041095"
      ]
     },
     "execution_count": 69,
     "metadata": {},
     "output_type": "execute_result"
    }
   ],
   "source": [
    "Y_valid.iloc[0]"
   ]
  },
  {
   "cell_type": "markdown",
   "id": "94d1fcf9-d70c-4866-92be-3800c9e51075",
   "metadata": {},
   "source": [
    "## Result"
   ]
  },
  {
   "cell_type": "code",
   "execution_count": 70,
   "id": "6fe23aba-9517-4179-8284-b40aa13c8da7",
   "metadata": {},
   "outputs": [
    {
     "data": {
      "text/plain": [
       "182868.47835616412"
      ]
     },
     "execution_count": 70,
     "metadata": {},
     "output_type": "execute_result"
    }
   ],
   "source": [
    "model_RFR.predict(X_valid.iloc[:1,:])[0]"
   ]
  },
  {
   "cell_type": "code",
   "execution_count": null,
   "id": "d566e539-52a8-4e9e-99c4-de9bd396893e",
   "metadata": {},
   "outputs": [],
   "source": []
  }
 ],
 "metadata": {
  "kernelspec": {
   "display_name": "Python 3 (Intel® oneAPI 2023.0)",
   "language": "python",
   "name": "c009-intel_distribution_of_python_3_oneapi-beta05-python"
  },
  "language_info": {
   "codemirror_mode": {
    "name": "ipython",
    "version": 3
   },
   "file_extension": ".py",
   "mimetype": "text/x-python",
   "name": "python",
   "nbconvert_exporter": "python",
   "pygments_lexer": "ipython3",
   "version": "3.9.15"
  }
 },
 "nbformat": 4,
 "nbformat_minor": 5
}
